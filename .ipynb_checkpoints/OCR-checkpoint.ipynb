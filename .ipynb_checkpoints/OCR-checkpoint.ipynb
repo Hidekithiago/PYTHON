{
 "cells": [
  {
   "cell_type": "code",
   "execution_count": 15,
   "metadata": {},
   "outputs": [
    {
     "ename": "NameError",
     "evalue": "name 'image_to_string' is not defined",
     "output_type": "error",
     "traceback": [
      "\u001b[1;31m---------------------------------------------------------------------------\u001b[0m",
      "\u001b[1;31mNameError\u001b[0m                                 Traceback (most recent call last)",
      "\u001b[1;32m<ipython-input-15-35f19ff4ab1a>\u001b[0m in \u001b[0;36m<module>\u001b[1;34m\u001b[0m\n\u001b[0;32m     28\u001b[0m \u001b[0mimage\u001b[0m \u001b[1;33m=\u001b[0m \u001b[0mImage\u001b[0m\u001b[1;33m.\u001b[0m\u001b[0mopen\u001b[0m\u001b[1;33m(\u001b[0m\u001b[1;34m\"C:\\quaestum\\captcha\\\\input-NEAREST\"\u001b[0m \u001b[1;33m+\u001b[0m \u001b[0mext\u001b[0m\u001b[1;33m)\u001b[0m\u001b[1;33m\u001b[0m\u001b[1;33m\u001b[0m\u001b[0m\n\u001b[0;32m     29\u001b[0m \u001b[1;31m#simplesmente imprimimos a imagem em formato de string OCRizado\u001b[0m\u001b[1;33m\u001b[0m\u001b[1;33m\u001b[0m\u001b[1;33m\u001b[0m\u001b[0m\n\u001b[1;32m---> 30\u001b[1;33m \u001b[0mprint\u001b[0m \u001b[1;33m(\u001b[0m\u001b[0mimage_to_string\u001b[0m\u001b[1;33m(\u001b[0m\u001b[0mimage\u001b[0m\u001b[1;33m)\u001b[0m\u001b[1;33m)\u001b[0m\u001b[1;33m\u001b[0m\u001b[1;33m\u001b[0m\u001b[0m\n\u001b[0m",
      "\u001b[1;31mNameError\u001b[0m: name 'image_to_string' is not defined"
     ]
    }
   ],
   "source": [
    "from PIL import Image\n",
    "#Imagem a ser quebrada, neste ponto você poderia usar urlib, httplib ou curl para carregar esta imagem.\n",
    "img = Image.open('C:\\quaestum\\captcha\\\\aa.png')\n",
    "#convertemos para o padrão RGB\n",
    "img = img.convert(\"RGBA\")\n",
    "#damos bind da imagem para a variável pixdata\n",
    "pixdata = img.load()\n",
    "\n",
    "# Limpando a sujeira do background, se a cor for != black, então transformamos em branco.\n",
    "#for y in range(img.size[1]):\n",
    "#    for x in range(img.size[0]):\n",
    "#        if pixdata[x, y] != (0, 0, 0, 255):\n",
    "#            pixdata[x, y] = (255, 255, 255, 255)\n",
    " \n",
    "#Salvamos a nova imagem com fundo branco\n",
    "#img.save(\"C:\\quaestum\\captcha\\\\aaa.png\", \"GIF\")\n",
    " \n",
    "#   Aumentamos as dimensões da imagem (requerido pelo OCR)\n",
    "im_orig = Image.open('C:\\quaestum\\captcha\\\\aaa.png')\n",
    "big = im_orig.resize((116, 56), Image.NEAREST)\n",
    " \n",
    "#Salvamos a imagem com tamanho maior\n",
    "ext = \".png\"\n",
    "big.save(\"C:\\quaestum\\captcha\\\\input-NEAREST\" + ext)\n",
    " \n",
    "#   Yeah! Fazemos OCR da imagem usando o Pytesser\n",
    "\n",
    "image = Image.open(\"C:\\quaestum\\captcha\\\\input-NEAREST\" + ext)\n",
    "#simplesmente imprimimos a imagem em formato de string OCRizado\n",
    "print (image_to_string(image))"
   ]
  }
 ],
 "metadata": {
  "kernelspec": {
   "display_name": "Python 3",
   "language": "python",
   "name": "python3"
  },
  "language_info": {
   "codemirror_mode": {
    "name": "ipython",
    "version": 3
   },
   "file_extension": ".py",
   "mimetype": "text/x-python",
   "name": "python",
   "nbconvert_exporter": "python",
   "pygments_lexer": "ipython3",
   "version": "3.7.1"
  }
 },
 "nbformat": 4,
 "nbformat_minor": 2
}
